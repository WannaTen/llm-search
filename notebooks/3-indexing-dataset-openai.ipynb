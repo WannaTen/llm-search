{
 "cells": [
  {
   "cell_type": "code",
   "execution_count": 1,
   "metadata": {},
   "outputs": [
    {
     "name": "stderr",
     "output_type": "stream",
     "text": [
      "Could not import azure.core python package.\n",
      "/home/snexus/.cache/pypoetry/virtualenvs/llmplay-MNp-VQJi-py3.10/lib/python3.10/site-packages/tqdm/auto.py:21: TqdmWarning: IProgress not found. Please update jupyter and ipywidgets. See https://ipywidgets.readthedocs.io/en/stable/user_install.html\n",
      "  from .autonotebook import tqdm as notebook_tqdm\n"
     ]
    }
   ],
   "source": [
    "import torch\n",
    "\n",
    "from dotenv import load_dotenv\n",
    "import logging\n",
    "\n",
    "import chromadb\n",
    "from chromadb.utils import embedding_functions\n",
    "from chromadb.config import Settings\n",
    "\n",
    "\n",
    "# from llama_index import GPTChromaIndex, LLMPredictor, LangchainEmbedding, ServiceContext, PromptHelper, TrafilaturaWebReader, SimpleDirectoryReader\n",
    "from llama_index import GPTVectorStoreIndex, LLMPredictor, LangchainEmbedding, ServiceContext, PromptHelper, load_index_from_storage\n",
    "from llama_index.prompts.prompts import QuestionAnswerPrompt\n",
    "from llama_index import download_loader\n",
    "\n",
    "from llama_index import GPTVectorStoreIndex, SimpleDirectoryReader, StorageContext\n",
    "\n",
    "from llama_index.vector_stores import ChromaVectorStore\n",
    "from llama_index.readers.chroma import ChromaReader\n",
    "\n",
    "from langchain.embeddings.huggingface import HuggingFaceEmbeddings\n",
    "from langchain.chat_models import ChatOpenAI\n",
    "\n",
    "\n"
   ]
  },
  {
   "cell_type": "code",
   "execution_count": 2,
   "metadata": {},
   "outputs": [],
   "source": [
    "\n",
    "CHROMA_COLLECTION_NAME = \"demo-collection\""
   ]
  },
  {
   "cell_type": "code",
   "execution_count": 3,
   "metadata": {},
   "outputs": [
    {
     "data": {
      "text/plain": [
       "True"
      ]
     },
     "execution_count": 3,
     "metadata": {},
     "output_type": "execute_result"
    }
   ],
   "source": [
    "load_dotenv()"
   ]
  },
  {
   "cell_type": "code",
   "execution_count": 4,
   "metadata": {},
   "outputs": [],
   "source": [
    "torch.cuda.empty_cache()"
   ]
  },
  {
   "cell_type": "code",
   "execution_count": 5,
   "metadata": {},
   "outputs": [
    {
     "data": {
      "text/plain": [
       "True"
      ]
     },
     "execution_count": 5,
     "metadata": {},
     "output_type": "execute_result"
    }
   ],
   "source": [
    "# Check if GPU is present\n",
    "torch.cuda.is_available()"
   ]
  },
  {
   "cell_type": "code",
   "execution_count": null,
   "metadata": {},
   "outputs": [],
   "source": []
  },
  {
   "cell_type": "code",
   "execution_count": 6,
   "metadata": {},
   "outputs": [],
   "source": [
    "QUESTION_ANSWER_PROMPT_TMPL = (\n",
    "    \"We have provided context information below. \\n\"\n",
    "    \"---------------------\\n\"\n",
    "    \"{context_str}\"\n",
    "    \"\\n---------------------\\n\"\n",
    "    \"Given this context information and no prior knowledge, please answer the question: {query_str}\\n\"\n",
    ")"
   ]
  },
  {
   "cell_type": "code",
   "execution_count": 7,
   "metadata": {},
   "outputs": [],
   "source": [
    "QUESTION_ANSWER_PROMPT = QuestionAnswerPrompt(QUESTION_ANSWER_PROMPT_TMPL)"
   ]
  },
  {
   "cell_type": "code",
   "execution_count": 8,
   "metadata": {},
   "outputs": [],
   "source": [
    "EMBEDDINGS_MODEL_NAME = \"all-MiniLM-L6-v2\""
   ]
  },
  {
   "cell_type": "code",
   "execution_count": 9,
   "metadata": {},
   "outputs": [],
   "source": [
    "embed_model = LangchainEmbedding(HuggingFaceEmbeddings(model_name=EMBEDDINGS_MODEL_NAME))"
   ]
  },
  {
   "cell_type": "code",
   "execution_count": 10,
   "metadata": {},
   "outputs": [],
   "source": [
    "sentence_transformer_ef = embedding_functions.SentenceTransformerEmbeddingFunction(model_name=EMBEDDINGS_MODEL_NAME)"
   ]
  },
  {
   "cell_type": "code",
   "execution_count": null,
   "metadata": {},
   "outputs": [],
   "source": []
  },
  {
   "cell_type": "code",
   "execution_count": null,
   "metadata": {},
   "outputs": [],
   "source": []
  },
  {
   "attachments": {},
   "cell_type": "markdown",
   "metadata": {},
   "source": [
    "## Set LLM Predictor"
   ]
  },
  {
   "cell_type": "code",
   "execution_count": 11,
   "metadata": {},
   "outputs": [],
   "source": [
    "llm_predictor = LLMPredictor(llm=ChatOpenAI(temperature=0, model_name=\"gpt-3.5-turbo\"))"
   ]
  },
  {
   "cell_type": "code",
   "execution_count": 12,
   "metadata": {},
   "outputs": [],
   "source": [
    "# define prompt helper\n",
    "# set maximum input size\n",
    "max_input_size = 4096\n",
    "# set number of output tokens\n",
    "num_output = 2048\n",
    "# set maximum chunk overlap\n",
    "max_chunk_overlap = 20"
   ]
  },
  {
   "cell_type": "code",
   "execution_count": null,
   "metadata": {},
   "outputs": [],
   "source": []
  },
  {
   "cell_type": "code",
   "execution_count": null,
   "metadata": {},
   "outputs": [],
   "source": []
  },
  {
   "attachments": {},
   "cell_type": "markdown",
   "metadata": {},
   "source": [
    "## Set Custom LLM Predictor"
   ]
  },
  {
   "cell_type": "code",
   "execution_count": 13,
   "metadata": {},
   "outputs": [],
   "source": [
    "from transformers import pipeline\n",
    "from langchain.llms.base import LLM\n",
    "from typing import Optional, List, Mapping, Any"
   ]
  },
  {
   "cell_type": "code",
   "execution_count": 14,
   "metadata": {},
   "outputs": [],
   "source": [
    "model_name = \"lmsys/fastchat-t5-3b-v1.0\""
   ]
  },
  {
   "cell_type": "code",
   "execution_count": 15,
   "metadata": {},
   "outputs": [],
   "source": [
    "# model_pipeline = pipeline(model=model_name, \n",
    "#                          load_in_8bit=False,\n",
    "#                          max_length = 512, temperature = 0,\n",
    "#                          device_map=\"auto\")"
   ]
  },
  {
   "cell_type": "code",
   "execution_count": 16,
   "metadata": {},
   "outputs": [],
   "source": [
    "# Reference - https://gpt-index.readthedocs.io/en/latest/how_to/customization/custom_llms.html\n",
    "\n",
    "class CustomLLM(LLM):\n",
    "    model_name = model_name\n",
    "    \n",
    "\n",
    "    def _call(self, prompt: str, stop: Optional[List[str]] = None) -> str:\n",
    "        response = model_pipeline(prompt)\n",
    "        return response\n",
    "\n",
    "\n",
    "    @property\n",
    "    def _identifying_params(self) -> Mapping[str, Any]:\n",
    "        return {\"name_of_model\": self.model_name}\n",
    "\n",
    "    @property\n",
    "    def _llm_type(self) -> str:\n",
    "        return \"custom\""
   ]
  },
  {
   "cell_type": "code",
   "execution_count": 17,
   "metadata": {},
   "outputs": [],
   "source": [
    "\n",
    "# llm_predictor = LLMPredictor(llm=CustomLLM())"
   ]
  },
  {
   "attachments": {},
   "cell_type": "markdown",
   "metadata": {},
   "source": [
    "### Service COntext"
   ]
  },
  {
   "cell_type": "code",
   "execution_count": 18,
   "metadata": {},
   "outputs": [],
   "source": [
    "prompt_helper = PromptHelper(max_input_size, num_output, max_chunk_overlap)"
   ]
  },
  {
   "cell_type": "code",
   "execution_count": 19,
   "metadata": {},
   "outputs": [],
   "source": [
    "service_context = ServiceContext.from_defaults(llm_predictor=llm_predictor, embed_model=embed_model, chunk_size_limit=512, \n",
    "                                               prompt_helper=prompt_helper)\n"
   ]
  },
  {
   "attachments": {},
   "cell_type": "markdown",
   "metadata": {},
   "source": [
    "### Generate index - collection of pdfs"
   ]
  },
  {
   "cell_type": "code",
   "execution_count": 20,
   "metadata": {},
   "outputs": [],
   "source": [
    "from pathlib import Path"
   ]
  },
  {
   "cell_type": "code",
   "execution_count": 21,
   "metadata": {},
   "outputs": [],
   "source": [
    "# https://github.com/timonmat/ChatObsidian/blob/main/utils/chroma.py#L66"
   ]
  },
  {
   "cell_type": "code",
   "execution_count": 22,
   "metadata": {},
   "outputs": [],
   "source": [
    "EMBEDDING_PERSIST_FOLDER = \"/home/snexus/software/chroma/chromadb/\"\n",
    "INDEX_PERSIST_FOLDER = \"/home/snexus/software/chroma/\"\n",
    "FOLDER_PATH = '../sample_data/ato'\n",
    "COLLECTION_NAME = \"sample-ato-documents\""
   ]
  },
  {
   "cell_type": "code",
   "execution_count": null,
   "metadata": {},
   "outputs": [],
   "source": []
  },
  {
   "cell_type": "code",
   "execution_count": 23,
   "metadata": {},
   "outputs": [],
   "source": [
    "def create_chroma_client():\n",
    "    return chromadb.Client(Settings(chroma_db_impl=\"duckdb+parquet\",persist_directory=EMBEDDING_PERSIST_FOLDER, anonymized_telemetry=False))\n",
    "\n",
    "def get_chroma_collection(collection_name, embedding_function):\n",
    "    client = create_chroma_client()\n",
    "    try:\n",
    "        return client.get_collection(collection_name, embedding_function=embedding_function)\n",
    "    except Exception as e:\n",
    "        logging.error(f\"Failed to get collection '{collection_name}': {e}\")\n",
    "        return None"
   ]
  },
  {
   "cell_type": "code",
   "execution_count": 24,
   "metadata": {},
   "outputs": [],
   "source": [
    "def get_collection_index_path(index_persist_folder: str, collection_name: str):\n",
    "    return (index_persist_folder + f\"collection-{collection_name}.json\")\n",
    "\n",
    "def load_chroma_index(index_persist_folder: str, collection_name: str):\n",
    "    collection_index_path = get_collection_index_path(index_persist_folder, collection_name)\n",
    "    _chroma_collection = get_chroma_collection(collection_name)\n",
    "    \n",
    "    # reader = ChromaReader(\n",
    "    #             collection_name=collection_name,\n",
    "    #             persist_directory=index_persist_folder\n",
    "    #         )\n",
    "    \n",
    "    if Path(collection_index_path).exists():\n",
    "        #documents = reader.load_data()\n",
    "        # vector_store  = ChromaVectorStore(chroma_collection=_chroma_collection)\n",
    "        \n",
    "        storage_context = StorageContext.from_defaults(\n",
    "                           vector_store = ChromaVectorStore(chroma_collection=_chroma_collection)\n",
    "                                )\n",
    "        \n",
    "        \n",
    "        #index = GPTVectorStoreIndex.from_documents(documents=documents, storage_context=storage_context, service_context=service_context)\n",
    "        index = load_index_from_storage(storage_context)\n",
    "        # index = GPTChromaIndex.load_from_disk(collection_index_path, chroma_collection=_chroma_collection, service_context=service_context)\n",
    "        logging.info('Index loaded for collection ' + collection_name )\n",
    "    else:\n",
    "        index = None\n",
    "    return index"
   ]
  },
  {
   "cell_type": "code",
   "execution_count": 25,
   "metadata": {},
   "outputs": [],
   "source": [
    "# reader = ChromaReader(\n",
    "#     collection_name=COLLECTION_NAME,\n",
    "#     persist_directory=INDEX_PERSIST_FOLDER\n",
    "# )"
   ]
  },
  {
   "cell_type": "code",
   "execution_count": 26,
   "metadata": {},
   "outputs": [],
   "source": [
    "#collection_index_path = get_collection_index_path(INDEX_PERSIST_FOLDER, COLLECTION_NAME)"
   ]
  },
  {
   "cell_type": "code",
   "execution_count": 27,
   "metadata": {},
   "outputs": [],
   "source": [
    "# collection_index_path"
   ]
  },
  {
   "cell_type": "code",
   "execution_count": 28,
   "metadata": {},
   "outputs": [
    {
     "name": "stderr",
     "output_type": "stream",
     "text": [
      "Using embedded DuckDB with persistence: data will be stored in: /home/snexus/software/chroma/chromadb/\n"
     ]
    }
   ],
   "source": [
    "client = create_chroma_client()"
   ]
  },
  {
   "cell_type": "code",
   "execution_count": 29,
   "metadata": {},
   "outputs": [
    {
     "name": "stderr",
     "output_type": "stream",
     "text": [
      "No embedding_function provided, using default embedding function: SentenceTransformerEmbeddingFunction\n"
     ]
    },
    {
     "data": {
      "text/plain": [
       "[Collection(name=sample-ato-documents)]"
      ]
     },
     "execution_count": 29,
     "metadata": {},
     "output_type": "execute_result"
    }
   ],
   "source": [
    "client.list_collections()"
   ]
  },
  {
   "cell_type": "code",
   "execution_count": 30,
   "metadata": {},
   "outputs": [],
   "source": [
    "collection = client.get_collection(COLLECTION_NAME, embedding_function=sentence_transformer_ef)"
   ]
  },
  {
   "cell_type": "code",
   "execution_count": 31,
   "metadata": {},
   "outputs": [],
   "source": [
    "# collection.peek()"
   ]
  },
  {
   "cell_type": "code",
   "execution_count": 32,
   "metadata": {},
   "outputs": [
    {
     "name": "stderr",
     "output_type": "stream",
     "text": [
      "Using embedded DuckDB with persistence: data will be stored in: /home/snexus/software/chroma/chromadb/\n"
     ]
    }
   ],
   "source": [
    "_chroma_collection = get_chroma_collection(collection_name = COLLECTION_NAME, embedding_function=sentence_transformer_ef)"
   ]
  },
  {
   "cell_type": "code",
   "execution_count": null,
   "metadata": {},
   "outputs": [],
   "source": []
  },
  {
   "cell_type": "code",
   "execution_count": 33,
   "metadata": {},
   "outputs": [],
   "source": [
    "vector_store = ChromaVectorStore(chroma_collection=_chroma_collection)"
   ]
  },
  {
   "cell_type": "code",
   "execution_count": 34,
   "metadata": {},
   "outputs": [],
   "source": [
    "# StorageContext(vector_store=ChromaVectorStore(chroma_collection=_chroma_collection), )"
   ]
  },
  {
   "cell_type": "code",
   "execution_count": 35,
   "metadata": {},
   "outputs": [],
   "source": [
    "storage_context = StorageContext.from_defaults(\n",
    "                           vector_store = ChromaVectorStore(chroma_collection=_chroma_collection)\n",
    "                           \n",
    "                           )\n"
   ]
  },
  {
   "cell_type": "code",
   "execution_count": null,
   "metadata": {},
   "outputs": [],
   "source": []
  },
  {
   "cell_type": "code",
   "execution_count": 36,
   "metadata": {},
   "outputs": [],
   "source": [
    "storage_context = StorageContext.from_defaults(\n",
    "                          vector_store = ChromaVectorStore(chroma_collection=_chroma_collection), persist_dir=INDEX_PERSIST_FOLDER\n",
    "                           )"
   ]
  },
  {
   "cell_type": "code",
   "execution_count": null,
   "metadata": {},
   "outputs": [],
   "source": []
  },
  {
   "cell_type": "code",
   "execution_count": 37,
   "metadata": {},
   "outputs": [],
   "source": [
    "index =load_index_from_storage(storage_context, index_id=\"vector_index\", service_context = service_context)"
   ]
  },
  {
   "cell_type": "code",
   "execution_count": 38,
   "metadata": {},
   "outputs": [
    {
     "data": {
      "text/plain": [
       "<llama_index.indices.vector_store.base.GPTVectorStoreIndex at 0x7f6bf9174b50>"
      ]
     },
     "execution_count": 38,
     "metadata": {},
     "output_type": "execute_result"
    }
   ],
   "source": [
    "index"
   ]
  },
  {
   "cell_type": "code",
   "execution_count": 41,
   "metadata": {},
   "outputs": [],
   "source": [
    "\n",
    "\n",
    "# FOLDER_PATH = '../sample_data/standards'\n",
    "# COLLENTION_NAME = \"sample-standards\""
   ]
  },
  {
   "cell_type": "code",
   "execution_count": null,
   "metadata": {},
   "outputs": [],
   "source": []
  },
  {
   "cell_type": "markdown",
   "metadata": {},
   "source": []
  },
  {
   "cell_type": "code",
   "execution_count": 25,
   "metadata": {},
   "outputs": [
    {
     "name": "stderr",
     "output_type": "stream",
     "text": [
      "Using embedded DuckDB with persistence: data will be stored in: /home/snexus/software/chroma/chromadb/\n"
     ]
    },
    {
     "name": "stdout",
     "output_type": "stream",
     "text": [
      "[PosixPath('../sample_data/ato/ato-capital-gain-tax.pdf'), PosixPath('../sample_data/ato/ato-dividends.pdf')]\n",
      "Loading ../sample_data/ato/ato-capital-gain-tax.pdf\n",
      "['id_ato-capital-gain-tax.pdf_0']\n",
      "Creating a new index.\n",
      "Loading ../sample_data/ato/ato-dividends.pdf\n",
      "['id_ato-dividends.pdf_0']\n",
      "Indesring into existing index\n"
     ]
    },
    {
     "data": {
      "text/plain": [
       "True"
      ]
     },
     "execution_count": 25,
     "metadata": {},
     "output_type": "execute_result"
    }
   ],
   "source": [
    "chroma_client = create_chroma_client()\n",
    "chroma_collection = chroma_client.get_or_create_collection(COLLECTION_NAME, embedding_function=sentence_transformer_ef)\n",
    "\n",
    "PDFReader = download_loader(\"PDFReader\")\n",
    "# Scan file folder for .pdf\n",
    "root = Path(FOLDER_PATH)\n",
    "paths = [path for path in root.glob(\"*.pdf\")]\n",
    "print(paths)\n",
    "\n",
    "\n",
    "index = None\n",
    "\n",
    "for path in paths:\n",
    "    loader = PDFReader()\n",
    "    print(f\"Loading {path}\")\n",
    "    documents = loader.load_data(file=path)\n",
    "    ids = [f\"id_{path.name}_{i}\" for i in range(len(documents))]\n",
    "    print(ids)\n",
    "    chroma_collection.add(documents=documents[0].text, ids = ids)\n",
    "    \n",
    "    \n",
    "    if index is None:\n",
    "        print(\"Creating a new index.\")\n",
    "        # index = GPTChromaIndex.from_documents(documents, chroma_collection=chroma_collection,  service_context=service_context)\n",
    "\n",
    "        index = GPTVectorStoreIndex.from_documents(documents=documents, service_context = service_context, storage_context=StorageContext.from_defaults(\n",
    "                           vector_store = ChromaVectorStore(chroma_collection=chroma_collection))                          \n",
    "                           )\n",
    "    else:\n",
    "        print(\"Indesring into existing index\")\n",
    "        index.insert(documents[0])\n",
    "\n",
    "        \n",
    "# collection_index_path = INDEX_PERSIST_FOLDER + f\"collection-{COLLECTION_NAME}.json\"\n",
    "# collection_index_path\n",
    "index.set_index_id(\"vector_index\")\n",
    "index.storage_context.persist(INDEX_PERSIST_FOLDER)\n",
    "# index.save_to_disk(collection_index_path)\n",
    "chroma_client.persist()"
   ]
  },
  {
   "cell_type": "code",
   "execution_count": 80,
   "metadata": {},
   "outputs": [],
   "source": [
    "# p = loader.load_data(file=path)"
   ]
  },
  {
   "cell_type": "code",
   "execution_count": 42,
   "metadata": {},
   "outputs": [],
   "source": [
    "# p[0].text"
   ]
  },
  {
   "cell_type": "code",
   "execution_count": null,
   "metadata": {},
   "outputs": [],
   "source": []
  },
  {
   "attachments": {},
   "cell_type": "markdown",
   "metadata": {},
   "source": [
    "### Example questions - ATO"
   ]
  },
  {
   "cell_type": "code",
   "execution_count": 39,
   "metadata": {},
   "outputs": [],
   "source": [
    "query_engine = index.as_query_engine(mode=\"embedding\",similarity_top_k=1,response_mode = \"compact\",  verbose=True)\n",
    "\n",
    "# text_qa_template=QUESTION_ANSWER_PROMPT, \n",
    "#                 mode=\"embedding\",\n",
    "#                 similarity_top_k=1, \n",
    "#                 response_mode = \"compact\", # default, compact, tree_summarize, no_text\n",
    "#                 verbose=True"
   ]
  },
  {
   "cell_type": "code",
   "execution_count": 40,
   "metadata": {},
   "outputs": [],
   "source": [
    "r = query_engine.query(\"Who is eligible for CGT discount?\")"
   ]
  },
  {
   "cell_type": "code",
   "execution_count": 41,
   "metadata": {},
   "outputs": [
    {
     "name": "stdout",
     "output_type": "stream",
     "text": [
      "Australian trusts and complying super funds that have owned an asset for at least 12 months are eligible for CGT discount. Additionally, individuals who are Australian residents for tax purposes and provide affordable rental housing may be eligible for an additional CGT discount of up to 10%. However, foreign or temporary residents, those who dispose of certain shares or trust interests in non-widely held companies and trusts, and those who convert an income asset into a capital asset for the purposes of claiming the CGT discount may not be eligible for the full discount. The CGT discount is also not available for a CGT event that creates a new asset and a capital gain. Companies cannot use the CGT discount.\n"
     ]
    }
   ],
   "source": [
    "print(r)"
   ]
  },
  {
   "cell_type": "code",
   "execution_count": 49,
   "metadata": {},
   "outputs": [],
   "source": [
    "r = query_engine.query(\"What types of investements are eligible for CGT discount?\")"
   ]
  },
  {
   "cell_type": "code",
   "execution_count": 50,
   "metadata": {},
   "outputs": [
    {
     "name": "stdout",
     "output_type": "stream",
     "text": [
      "Assets owned for at least 12 months by Australian trusts and complying super funds are eligible for CGT discount. There is also an additional CGT discount of up to 10% for individuals who are Australian residents for tax purposes and provide affordable rental housing. However, the discount cannot be used for capital gains made by foreign or temporary residents after 8 May 2012, for a CGT event that creates a new asset, for disposal of interest in a non-widely held entity, or if an income asset is converted into a capital asset for the purposes of claiming the CGT discount. Companies cannot use the CGT discount.\n"
     ]
    }
   ],
   "source": [
    "print(r)"
   ]
  },
  {
   "cell_type": "code",
   "execution_count": 51,
   "metadata": {},
   "outputs": [],
   "source": [
    "r = query_engine.query(\"Can I get CGT discount if I sell shares 11 month after buying them?\")"
   ]
  },
  {
   "cell_type": "code",
   "execution_count": 52,
   "metadata": {},
   "outputs": [
    {
     "name": "stdout",
     "output_type": "stream",
     "text": [
      "No, you cannot get the CGT discount if you sell shares 11 months after buying them. The asset must be owned for at least 12 months before the CGT event happens to qualify for the discount.\n"
     ]
    }
   ],
   "source": [
    "print(r)"
   ]
  },
  {
   "cell_type": "code",
   "execution_count": 53,
   "metadata": {},
   "outputs": [
    {
     "name": "stdout",
     "output_type": "stream",
     "text": [
      "the CGT discount works\n",
      "When you sell or otherwise dispose of an asset, you can reduce your capital gain\n",
      "by 50%, if both of the following apply:\n",
      "you owned the asset for at least 12 months\n",
      "you are an Australian resident for tax purposes.\n",
      "This is called the capital gains tax (CGT) discount.\n",
      "12-month ownership requirement\n",
      "For an asset to qualify for the CGT discount you must own it for at least 12 months\n",
      "before the 'CGT event' happens. The CGT event is the point at which you make a\n",
      "capital gain or loss. You exclude the day of acquisition and the day of the CGT\n",
      "event when working out if you owned the CGT asset for at least 12 months before\n",
      "the 'CGT event’ happens. \n",
      "If you sell the asset and there is no contract of sale\n",
      ", the CGT event happens at\n",
      "the time of sale.\n",
      "31 of 253\n",
      "If there is a contract to sell the asset\n",
      ", the CGT event happens on the date of\n",
      "the contract, not when you settle. Property sales usually work this way.\n",
      "If the asset is lost or destroyed\n",
      ", the CGT event happens when:    \n",
      "you first receive an insurance payment or other compensation\n",
      "if there is no insurance payment or compensation, when the loss occurred\n",
      "or was discovered.\n",
      "You can count an asset’s previous ownership towards your 12-month ownership\n",
      "period if you acquired it:\n",
      "through a \n",
      "deceased estate\n",
      " if the asset was acquired by the deceased on or\n",
      "after 20 September 1985\n",
      "through a \n",
      "relationship breakdown\n",
      " – you will satisfy the 12-month requirement if\n",
      "the combined period your spouse and you owned the asset was more than\n",
      "12 months\n",
      "as a rollover replacement for an asset that was lost, destroyed or compulsorily\n",
      "acquired if the period of ownership of the original asset and the replacement\n",
      "asset was at least 12 months.\n",
      "Exclusions from the CGT discount\n",
      "You cannot use the CGT discount in the following circumstances.\n",
      "Home first used for rental or business in\n"
     ]
    }
   ],
   "source": [
    "print(r.source_nodes[0].node.text)"
   ]
  },
  {
   "cell_type": "code",
   "execution_count": 54,
   "metadata": {},
   "outputs": [],
   "source": [
    "r = query_engine.query(\"Can I get CGT discount for dividends?\")"
   ]
  },
  {
   "cell_type": "code",
   "execution_count": 55,
   "metadata": {},
   "outputs": [
    {
     "name": "stdout",
     "output_type": "stream",
     "text": [
      "The context information does not provide any information about CGT discount for dividends.\n"
     ]
    }
   ],
   "source": [
    "print(r)"
   ]
  },
  {
   "cell_type": "code",
   "execution_count": 56,
   "metadata": {},
   "outputs": [],
   "source": [
    "result = query_engine.query(\"What is a difference between franked and unfranked dividends?\")"
   ]
  },
  {
   "cell_type": "code",
   "execution_count": 57,
   "metadata": {},
   "outputs": [
    {
     "name": "stdout",
     "output_type": "stream",
     "text": [
      "A difference between franked and unfranked dividends is that franked dividends have a franking credit attached to them, while unfranked dividends do not.\n"
     ]
    }
   ],
   "source": [
    "print(result)"
   ]
  },
  {
   "cell_type": "code",
   "execution_count": 59,
   "metadata": {},
   "outputs": [],
   "source": [
    "result = query_engine.query(\"What is a difference between dividends and distributions?\")"
   ]
  },
  {
   "cell_type": "code",
   "execution_count": 60,
   "metadata": {},
   "outputs": [
    {
     "name": "stdout",
     "output_type": "stream",
     "text": [
      "The context information does not provide a clear difference between dividends and distributions. The terms are used interchangeably throughout the text.\n"
     ]
    }
   ],
   "source": [
    "print(result)\n"
   ]
  },
  {
   "cell_type": "code",
   "execution_count": 62,
   "metadata": {},
   "outputs": [],
   "source": [
    "result = query_engine.query(\"WHat is exempt from capital gain tax?\")"
   ]
  },
  {
   "cell_type": "code",
   "execution_count": 63,
   "metadata": {},
   "outputs": [
    {
     "name": "stdout",
     "output_type": "stream",
     "text": [
      "Assets acquired before 20 September 1985 and the main residence (home) are exempt from capital gain tax.\n"
     ]
    }
   ],
   "source": [
    "print(result)"
   ]
  },
  {
   "cell_type": "code",
   "execution_count": 64,
   "metadata": {},
   "outputs": [
    {
     "name": "stdout",
     "output_type": "stream",
     "text": [
      "such as\n",
      "property.\n",
      "You report capital gains and capital losses in your income tax return and pay tax on\n",
      "your capital gains. Although it is referred to as 'capital gains tax,' it is part of your\n",
      "income tax. It is not a separate tax.\n",
      "If you have a capital gain, it will increase the tax you need to pay. You may want to\n",
      "work out how much tax you will owe and set aside funds to cover it.\n",
      "Example: calculating CGT\n",
      "Maree buys some shares for $5,000.\n",
      "She owns the shares for 6 months and sells them for $5,500. She has no\n",
      "other capital gains or losses.\n",
      "Maree declares a capital gain of $500 in her tax return. She will pay tax on\n",
      "2 of 253\n",
      "this gain at her individual income tax rate.\n",
      "List of CGT assets and exemptions\n",
      "https://www.ato.gov.au/Individuals/Capital-gains-tax/List-of-CGT-assets-and-\n",
      "exemptions/\n",
      "Last modified: 01 Jul 2022\n",
      "QC 66014\n",
      "Check if your assets are subject to CGT, exempt, or pre-date CGT.\n",
      "On this page\n",
      "Assets acquired before 20 September 1985\n",
      "Real estate\n",
      "Your main residence (your home)\n",
      "Granny flat arrangements\n",
      "Cars and motorcycles\n",
      "Shares and units\n",
      "Crypto assets\n",
      "Personal use assets\n",
      "Collectables\n",
      "Intangible assets\n",
      "Foreign currency\n",
      "Depreciating assets\n",
      "Specific exemptions such as awards and payouts\n",
      "Norfolk Island residents\n",
      "Assets acquired before 20 September 1985\n",
      "Assets you acquired before 20 September 1985 are exempt from CGT.\n",
      "Real estate\n",
      "Most \n",
      "property\n",
      " is subject to CGT.\n",
      "This includes:\n",
      "vacant land\n",
      "business premises\n",
      "rental properties\n",
      "holiday houses\n",
      "hobby farms.\n",
      "3 of 253\n",
      "If you acquired property before 20 September 1985, any \n",
      "property improvements or\n",
      "additions\n",
      " you make after that date may be subject to CGT.\n",
      "Your main residence is generally exempt from CGT.\n",
      "Your main residence (your home)\n",
      "Your \n",
      "main residence (your home)\n",
      " is exempt from CGT.\n",
      "However, CGT may apply if:\n",
      "you rent out part of\n"
     ]
    }
   ],
   "source": [
    "print(result.source_nodes[0].node.text)"
   ]
  },
  {
   "cell_type": "code",
   "execution_count": null,
   "metadata": {},
   "outputs": [],
   "source": []
  }
 ],
 "metadata": {
  "kernelspec": {
   "display_name": "llmplay-MNp-VQJi-py3.10",
   "language": "python",
   "name": "python3"
  },
  "language_info": {
   "codemirror_mode": {
    "name": "ipython",
    "version": 3
   },
   "file_extension": ".py",
   "mimetype": "text/x-python",
   "name": "python",
   "nbconvert_exporter": "python",
   "pygments_lexer": "ipython3",
   "version": "3.10.6"
  },
  "orig_nbformat": 4
 },
 "nbformat": 4,
 "nbformat_minor": 2
}
